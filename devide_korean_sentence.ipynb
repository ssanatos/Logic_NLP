{
 "cells": [
  {
   "cell_type": "code",
   "execution_count": null,
   "metadata": {},
   "outputs": [],
   "source": [
    "from konlpy.tag import Kkma\n",
    "import pandas as pd"
   ]
  },
  {
   "cell_type": "code",
   "execution_count": null,
   "metadata": {},
   "outputs": [],
   "source": [
    "def divide_sentence(sentence):\n",
    "    kkma = Kkma()  \n",
    "    words = kkma.pos(sentence)\n",
    "    N_index = []\n",
    "    cut_sent=0\n",
    "    for idx, word in enumerate(words):\n",
    "        if word[1].startswith('N'):  # N은 명사 J는 조사\n",
    "            N_index.append(idx)\n",
    "    for i in N_index:\n",
    "        if len(words) == int(i+1):\n",
    "            break\n",
    "        if words[i+1][1].startswith('J'):\n",
    "            if words[i+1][0] == '는' :\n",
    "                search_str = words[i][0] + '는'\n",
    "                cut_sent = sentence.find(search_str) + len(search_str) + 1\n",
    "            elif words[i+1][0] == '은':\n",
    "                search_str = words[i][0] + '은'\n",
    "                cut_sent = sentence.find(search_str) + len(search_str) + 1\n",
    "    return sentence[:cut_sent], sentence[cut_sent:]"
   ]
  },
  {
   "cell_type": "code",
   "execution_count": null,
   "metadata": {},
   "outputs": [],
   "source": [
    "df = pd.DataFrame(index=range(0,0),columns=['subject','predicate'])\n",
    "with open(\"./logical_sentence.txt\", 'r',encoding='UTF-8') as f:\n",
    "    lines = f.readlines()\n",
    "    cnt = 0\n",
    "    for idx, line in enumerate(lines):\n",
    "        sentences = line.split('.')\n",
    "        for sent in sentences:\n",
    "            try:\n",
    "                subject, predicate = divide_sentence(sent)\n",
    "                # if subject is not None or predicate is not None:\n",
    "                if len(subject)> 1 and len(predicate) > 1 :\n",
    "                    df.at[idx,'subject'] = subject\n",
    "                    df.at[idx,'predicate'] = predicate\n",
    "                    cnt += 1\n",
    "            except:\n",
    "                continue\n",
    "\n",
    "df"
   ]
  }
 ],
 "metadata": {
  "language_info": {
   "name": "python"
  },
  "orig_nbformat": 4
 },
 "nbformat": 4,
 "nbformat_minor": 2
}
